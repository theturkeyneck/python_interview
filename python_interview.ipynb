{
 "cells": [
  {
   "cell_type": "markdown",
   "id": "2cf87aca",
   "metadata": {},
   "source": [
    "# QUESTION 1"
   ]
  },
  {
   "cell_type": "markdown",
   "id": "f03010a8",
   "metadata": {},
   "source": [
    "You’re given a list of names. You want to:\n",
    "\n",
    "- Remove duplicate names,\n",
    "- Count how many unique names there are,\n",
    "- How would you also count how many times each name appears?"
   ]
  },
  {
   "cell_type": "code",
   "execution_count": null,
   "id": "0c03af59",
   "metadata": {},
   "outputs": [],
   "source": [
    "names = [\n",
    "    \"Anders\", \"Mette\", \"Lars\", \"Anders\", \"Sofie\", \"Anders\", \"Mette\", \"Freja\",\n",
    "    \"Lars\", \"Sofie\", \"Emil\", \"Isabella\", \"Oscar\", \"Nanna\", \"Magnus\",\n",
    "    \"Lina\", \"Mikkel\", \"Nina\", \"Victor\", \"Clara\", \"Oliver\", \"Ellen\",\n",
    "    \"Johannes\", \"Rasmus\", \"Frida\", \"Liva\", \"Nikolaj\", \"Amalie\", \"Sander\",\n",
    "    \"Kasper\", \"Silas\", \"Karoline\", \"Johanne\", \"Mikkel\", \"Oscar\", \"Sofie\",\n",
    "    \"Rasmus\", \"Astrid\", \"William\", \"Emilie\"\n",
    "]"
   ]
  },
  {
   "cell_type": "code",
   "execution_count": null,
   "id": "c9db3a2f",
   "metadata": {},
   "outputs": [],
   "source": []
  },
  {
   "cell_type": "markdown",
   "id": "0f024c40",
   "metadata": {},
   "source": [
    "# QUESTION 2"
   ]
  },
  {
   "cell_type": "markdown",
   "id": "fe89f7b6",
   "metadata": {},
   "source": [
    "You’re given a dictionary of students and their grades:\n",
    "\n",
    "```python\n",
    "grades = {\n",
    "    \"James\": 78,\n",
    "    \"Oliver\": 55,\n",
    "    \"Sophia\": 92,\n",
    "    \"Benjamin\": 49,\n",
    "    \"Emma\": 85,\n",
    "    \"Lucas\": 61,\n",
    "    \"Amelia\": 93,\n",
    "    \"Mason\": 48,\n",
    "    \"Isabella\": 77,\n",
    "    \"Ethan\": 56,\n",
    "    \"Charlotte\": 88,\n",
    "    \"Daniel\": 72,\n",
    "    \"Mia\": 80,\n",
    "    \"Henry\": 65,\n",
    "    \"Ella\": 90,\n",
    "    \"Alexander\": 54,\n",
    "    \"Grace\": 67,\n",
    "    \"Jack\": 79,\n",
    "    \"Chloe\": 69,\n",
    "    \"William\": 50,\n",
    "    \"Harper\": 95,\n",
    "    \"Liam\": 82,\n",
    "    \"Ava\": 73,\n",
    "    \"Matthew\": 44,\n",
    "    \"Scarlett\": 86,\n",
    "    \"Oliver\": 91,\n",
    "    \"Sophie\": 76,\n",
    "    \"Ryan\": 60,\n",
    "    \"Zoe\": 59,\n",
    "    \"Samuel\": 83,\n",
    "    \"Emily\": 75,\n",
    "    \"Joseph\": 53\n",
    "}\n",
    "```\n",
    "Write logic that:\n",
    "\n",
    "- Prints whether each student passed or failed (passing grade is 50),\n",
    "- Follow-up: Count and print how many students passed and how many failed."
   ]
  },
  {
   "cell_type": "code",
   "execution_count": null,
   "id": "9165567e",
   "metadata": {},
   "outputs": [],
   "source": [
    "grades = {\n",
    "    \"James\": 78,\n",
    "    \"Oliver\": 55,\n",
    "    \"Sophia\": 92,\n",
    "    \"Benjamin\": 49,\n",
    "    \"Emma\": 85,\n",
    "    \"Lucas\": 61,\n",
    "    \"Amelia\": 93,\n",
    "    \"Mason\": 48,\n",
    "    \"Isabella\": 77,\n",
    "    \"Ethan\": 56,\n",
    "    \"Charlotte\": 88,\n",
    "    \"Daniel\": 72,\n",
    "    \"Mia\": 80,\n",
    "    \"Henry\": 65,\n",
    "    \"Ella\": 90,\n",
    "    \"Alexander\": 54,\n",
    "    \"Grace\": 67,\n",
    "    \"Jack\": 79,\n",
    "    \"Chloe\": 69,\n",
    "    \"William\": 50,\n",
    "    \"Harper\": 95,\n",
    "    \"Liam\": 82,\n",
    "    \"Ava\": 73,\n",
    "    \"Matthew\": 44,\n",
    "    \"Scarlett\": 86,\n",
    "    \"Oliver\": 91,\n",
    "    \"Sophie\": 76,\n",
    "    \"Ryan\": 60,\n",
    "    \"Zoe\": 59,\n",
    "    \"Samuel\": 83,\n",
    "    \"Emily\": 75,\n",
    "    \"Joseph\": 53\n",
    "}\n",
   ]
  },
  {
   "cell_type": "code",
   "execution_count": null,
   "id": "c66321c1",
   "metadata": {},
   "outputs": [],
   "source": []
  },
  {
   "cell_type": "markdown",
   "id": "f8da3877",
   "metadata": {},
   "source": [
    "# QUESTION 3"
   ]
  },
  {
   "cell_type": "markdown",
   "id": "3b80f11a",
   "metadata": {},
   "source": [
    "Write a function that takes a list of numbers and returns a dictionary with three keys:\n",
    "\n",
    "- \"even\": a list of even numbers\n",
    "- \"odd\": a list of odd numbers\n",
    "- \"duplicates\": a list of numbers that appear more than once\n",
    "\n",
    "- How would you change the function if you only wanted to include numbers that appear more than twice in the duplicates list?\n",
    "\n"
   ]
  },
  {
   "cell_type": "code",
   "execution_count": 2,
   "id": "0900baf3",
   "metadata": {},
   "outputs": [],
   "source": [
    "numbers = [1, 2, 3, 2, 5, 6, 3, 6, 6, 3, 2, 1, 4, 5, 6, 3, 2, 1, 4, 5, 6,7]"
   ]
  },
  {
   "cell_type": "code",
   "execution_count": null,
   "id": "80b60a17",
   "metadata": {},
   "outputs": [],
   "source": []
  }
 ],
 "metadata": {
  "kernelspec": {
   "display_name": ".venv",
   "language": "python",
   "name": "python3"
  },
  "language_info": {
   "codemirror_mode": {
    "name": "ipython",
    "version": 3
   },
   "file_extension": ".py",
   "mimetype": "text/x-python",
   "name": "python",
   "nbconvert_exporter": "python",
   "pygments_lexer": "ipython3",
   "version": "3.9.17"
  }
 },
 "nbformat": 4,
 "nbformat_minor": 5
}
