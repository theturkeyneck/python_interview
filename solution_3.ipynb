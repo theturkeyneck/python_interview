{
 "cells": [
  {
   "cell_type": "code",
   "execution_count": 3,
   "id": "9206e0cf",
   "metadata": {},
   "outputs": [
    {
     "name": "stdout",
     "output_type": "stream",
     "text": [
      "{'even': [2, 2, 6, 6, 6, 2, 4, 6, 2, 4, 6], 'odd': [1, 3, 5, 3, 3, 1, 5, 3, 1, 5, 7], 'duplicates': [1, 2, 3, 5, 6, 4]}\n"
     ]
    }
   ],
   "source": [
    "def classify_numbers(numbers):\n",
    "    even = []\n",
    "    odd = []\n",
    "    counts = {}\n",
    "\n",
    "    for num in numbers:\n",
    "        # Parity check\n",
    "        if num % 2 == 0:\n",
    "            even.append(num)\n",
    "        else:\n",
    "            odd.append(num)\n",
    "\n",
    "        # Count occurrences\n",
    "        counts[num] = counts.get(num, 0) + 1\n",
    "\n",
    "    # Duplicates: more than once\n",
    "    duplicates = [num for num, count in counts.items() if count > 1]\n",
    "\n",
    "    return {\n",
    "        \"even\": even,\n",
    "        \"odd\": odd,\n",
    "        \"duplicates\": duplicates\n",
    "    }\n",
    "\n",
    "numbers = [1, 2, 3, 2, 5, 6, 3, 6, 6, 3, 2, 1, 4, 5, 6, 3, 2, 1, 4, 5, 6, 7]\n",
    "result = classify_numbers(numbers)\n",
    "print(result)\n"
   ]
  },
  {
   "cell_type": "code",
   "execution_count": null,
   "id": "36c56bcf",
   "metadata": {},
   "outputs": [
    {
     "name": "stdout",
     "output_type": "stream",
     "text": [
      "[]\n"
     ]
    }
   ],
   "source": [
    "# Follow up\n",
    "# Duplicates: more than twice\n",
    "counts = {}\n",
    "duplicates = [num for num, count in counts.items() if count > 2]"
   ]
  },
  {
   "cell_type": "code",
   "execution_count": null,
   "id": "9895f982",
   "metadata": {},
   "outputs": [],
   "source": []
  }
 ],
 "metadata": {
  "kernelspec": {
   "display_name": "Python 3",
   "language": "python",
   "name": "python3"
  },
  "language_info": {
   "codemirror_mode": {
    "name": "ipython",
    "version": 3
   },
   "file_extension": ".py",
   "mimetype": "text/x-python",
   "name": "python",
   "nbconvert_exporter": "python",
   "pygments_lexer": "ipython3",
   "version": "3.12.1"
  }
 },
 "nbformat": 4,
 "nbformat_minor": 5
}
