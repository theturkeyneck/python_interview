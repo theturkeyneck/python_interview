{
 "cells": [
  {
   "cell_type": "code",
   "execution_count": 1,
   "id": "2afa2ca2",
   "metadata": {},
   "outputs": [
    {
     "name": "stdout",
     "output_type": "stream",
     "text": [
      "James: 78 → Passed\n",
      "Oliver: 91 → Passed\n",
      "Sophia: 92 → Passed\n",
      "Benjamin: 49 → Failed\n",
      "Emma: 85 → Passed\n",
      "Lucas: 61 → Passed\n",
      "Amelia: 93 → Passed\n",
      "Mason: 48 → Failed\n",
      "Isabella: 77 → Passed\n",
      "Ethan: 56 → Passed\n",
      "Charlotte: 88 → Passed\n",
      "Daniel: 72 → Passed\n",
      "Mia: 80 → Passed\n",
      "Henry: 65 → Passed\n",
      "Ella: 90 → Passed\n",
      "Alexander: 54 → Passed\n",
      "Grace: 67 → Passed\n",
      "Jack: 79 → Passed\n",
      "Chloe: 69 → Passed\n",
      "William: 50 → Passed\n",
      "Harper: 95 → Passed\n",
      "Liam: 82 → Passed\n",
      "Ava: 73 → Passed\n",
      "Matthew: 44 → Failed\n",
      "Scarlett: 86 → Passed\n",
      "Sophie: 76 → Passed\n",
      "Ryan: 60 → Passed\n",
      "Zoe: 59 → Passed\n",
      "Samuel: 83 → Passed\n",
      "Emily: 75 → Passed\n",
      "Joseph: 53 → Passed\n",
      "\n",
      "Total Passed: 28, Total Failed: 3\n"
     ]
    }
   ],
   "source": [
    "grades = {\n",
    "    \"James\": 78, \"Oliver\": 91, \"Sophia\": 92, \"Benjamin\": 49, \"Emma\": 85,\n",
    "    \"Lucas\": 61, \"Amelia\": 93, \"Mason\": 48, \"Isabella\": 77, \"Ethan\": 56,\n",
    "    \"Charlotte\": 88, \"Daniel\": 72, \"Mia\": 80, \"Henry\": 65, \"Ella\": 90,\n",
    "    \"Alexander\": 54, \"Grace\": 67, \"Jack\": 79, \"Chloe\": 69, \"William\": 50,\n",
    "    \"Harper\": 95, \"Liam\": 82, \"Ava\": 73, \"Matthew\": 44, \"Scarlett\": 86,\n",
    "    \"Sophie\": 76, \"Ryan\": 60, \"Zoe\": 59, \"Samuel\": 83, \"Emily\": 75,\n",
    "    \"Joseph\": 53\n",
    "}\n",
    "\n",
    "pass_count = 0\n",
    "fail_count = 0\n",
    "\n",
    "for name, score in grades.items():\n",
    "    result = \"Passed\" if score >= 50 else \"Failed\"\n",
    "    print(f\"{name}: {score} → {result}\")\n",
    "    if score >= 50:\n",
    "        pass_count += 1\n",
    "    else:\n",
    "        fail_count += 1\n",
    "\n",
    "print(f\"\\nTotal Passed: {pass_count}, Total Failed: {fail_count}\")"
   ]
  },
  {
   "cell_type": "code",
   "execution_count": null,
   "id": "60835f0b",
   "metadata": {},
   "outputs": [],
   "source": []
  }
 ],
 "metadata": {
  "kernelspec": {
   "display_name": "Python 3",
   "language": "python",
   "name": "python3"
  },
  "language_info": {
   "codemirror_mode": {
    "name": "ipython",
    "version": 3
   },
   "file_extension": ".py",
   "mimetype": "text/x-python",
   "name": "python",
   "nbconvert_exporter": "python",
   "pygments_lexer": "ipython3",
   "version": "3.12.1"
  }
 },
 "nbformat": 4,
 "nbformat_minor": 5
}
