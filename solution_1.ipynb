{
 "cells": [
  {
   "cell_type": "code",
   "execution_count": 1,
   "id": "a03490b6",
   "metadata": {},
   "outputs": [
    {
     "name": "stdout",
     "output_type": "stream",
     "text": [
      "Number of unique names: 31\n",
      "Sorted by frequency: [('Anders', 3), ('Sofie', 3), ('Mette', 2), ('Lars', 2), ('Oscar', 2), ('Mikkel', 2), ('Rasmus', 2), ('Freja', 1), ('Emil', 1), ('Isabella', 1), ('Nanna', 1), ('Magnus', 1), ('Lina', 1), ('Nina', 1), ('Victor', 1), ('Clara', 1), ('Oliver', 1), ('Ellen', 1), ('Johannes', 1), ('Frida', 1), ('Liva', 1), ('Nikolaj', 1), ('Amalie', 1), ('Sander', 1), ('Kasper', 1), ('Silas', 1), ('Karoline', 1), ('Johanne', 1), ('Astrid', 1), ('William', 1), ('Emilie', 1)]\n"
     ]
    }
   ],
   "source": [
    "names = [\n",
    "    \"Anders\", \"Mette\", \"Lars\", \"Anders\", \"Sofie\", \"Anders\", \"Mette\", \"Freja\", \n",
    "    \"Lars\", \"Sofie\", \"Emil\", \"Isabella\", \"Oscar\", \"Nanna\", \"Magnus\", \n",
    "    \"Lina\", \"Mikkel\", \"Nina\", \"Victor\", \"Clara\", \"Oliver\", \"Ellen\", \n",
    "    \"Johannes\", \"Rasmus\", \"Frida\", \"Liva\", \"Nikolaj\", \"Amalie\", \"Sander\", \n",
    "    \"Kasper\", \"Silas\", \"Karoline\", \"Johanne\", \"Mikkel\", \"Oscar\", \"Sofie\", \n",
    "    \"Rasmus\", \"Astrid\", \"William\", \"Emilie\"\n",
    "]\n",
    "\n",
    "# Unique names\n",
    "unique_names = set(names)\n",
    "print(f\"Number of unique names: {len(unique_names)}\")\n",
    "\n",
    "# Manual count of occurrences\n",
    "name_counts = {}\n",
    "for name in names:\n",
    "    name_counts[name] = name_counts.get(name, 0) + 1\n",
    "\n",
    "# Sort by frequency\n",
    "sorted_by_freq = sorted(name_counts.items(), key=lambda x: x[1], reverse=True)\n",
    "print(\"Sorted by frequency:\", sorted_by_freq)"
   ]
  },
  {
   "cell_type": "code",
   "execution_count": null,
   "id": "2389003c",
   "metadata": {},
   "outputs": [],
   "source": []
  }
 ],
 "metadata": {
  "kernelspec": {
   "display_name": "Python 3",
   "language": "python",
   "name": "python3"
  },
  "language_info": {
   "codemirror_mode": {
    "name": "ipython",
    "version": 3
   },
   "file_extension": ".py",
   "mimetype": "text/x-python",
   "name": "python",
   "nbconvert_exporter": "python",
   "pygments_lexer": "ipython3",
   "version": "3.12.1"
  }
 },
 "nbformat": 4,
 "nbformat_minor": 5
}
