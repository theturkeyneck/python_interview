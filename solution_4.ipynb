{
 "cells": [
  {
   "cell_type": "markdown",
   "id": "1979f845",
   "metadata": {},
   "source": [
    "1. What insights or KPIs would you try to extract?\n",
    "- Most frequent origin-destination routes.\n",
    "- Number of bookings per customer or segment.\n",
    "- Repeat booking patterns (loyalty or churn risk).\n",
    "- Bookings over time (per day/week).\n",
    "- Bookings by country of customer.\n",
    "- Compare behavior of Enterprise vs SMB customers."
   ]
  },
  {
   "cell_type": "markdown",
   "id": "997c7d80",
   "metadata": {},
   "source": [
    "2. How might you visualize this data in Power BI?\n",
    "- Bar chart of top 5 origin-destination routes.\n",
    "- Line chart showing daily bookings.\n",
    "- Pie chart of customer segments (Enterprise vs SMB).\n",
    "- Matrix table of bookings per customer.\n",
    "- Map visualization showing common shipping routes."
   ]
  },
  {
   "cell_type": "markdown",
   "id": "ee8268e8",
   "metadata": {},
   "source": [
    "3. What would you want to clean or transform before analysis?\n",
    "- Join bookings with customers on CustomerID.\n",
    "- Convert BookingDate to week/month for time series.\n",
    "- Ensure no missing values in CustomerID, BookingDate.\n",
    "- Standardize city names if needed (e.g., \"Copenhagen\" vs \"København\")."
   ]
  },
  {
   "cell_type": "markdown",
   "id": "3a65428f",
   "metadata": {},
   "source": [
    "4. What would you attempt to do in Python vs Power BI?\n",
    "- In Python: preprocessing, data cleaning, joins, date grouping, exporting to .csv or .xlsx.\n",
    "- In Power BI: visualizations, filtering, slicers by segment or destination, and sharing dashboards."
   ]
  },
  {
   "cell_type": "markdown",
   "id": "74452e7f",
   "metadata": {},
   "source": []
  }
 ],
 "metadata": {
  "language_info": {
   "name": "python"
  }
 },
 "nbformat": 4,
 "nbformat_minor": 5
}
